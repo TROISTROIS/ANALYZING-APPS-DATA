{
 "cells": [
  {
   "cell_type": "markdown",
   "metadata": {},
   "source": [
    "# Profitable App Profiles for the App Store and Google Play Markets\n",
    "\n",
    "For this project, we'll analyze data, for a company that builds Android and iOS mobile apps. This will help developers understand what type of apps are likely to attract more users and make the apps available on Google Play and in the App Store.\n",
    "\n",
    "The company only builds apps that are free to download and install, and their main source of revenue consists of in-app ads. This means that the number of users of their apps determines their revenue for any given app — the more users who see and engage with the ads, the better. "
   ]
  },
  {
   "cell_type": "code",
   "execution_count": null,
   "metadata": {},
   "outputs": [],
   "source": []
  }
 ],
 "metadata": {
  "kernelspec": {
   "display_name": "Python 3",
   "language": "python",
   "name": "python3"
  },
  "language_info": {
   "codemirror_mode": {
    "name": "ipython",
    "version": 3
   },
   "file_extension": ".py",
   "mimetype": "text/x-python",
   "name": "python",
   "nbconvert_exporter": "python",
   "pygments_lexer": "ipython3",
   "version": "3.8.2"
  }
 },
 "nbformat": 4,
 "nbformat_minor": 2
}
